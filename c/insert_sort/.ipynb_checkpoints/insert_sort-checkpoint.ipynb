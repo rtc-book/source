{
 "cells": [
  {
   "cell_type": "code",
   "execution_count": 1,
   "id": "ab7c214c",
   "metadata": {},
   "outputs": [],
   "source": [
    "import matplotlib.pyplot as plt\n",
    "import numpy as np\n",
    "draft_mode = False\n",
    "# %matplotlib inline\n",
    "from front_matter import *\n",
    "import matplotlib as mpl\n",
    "import tikzplotlib"
   ]
  },
  {
   "cell_type": "code",
   "execution_count": 2,
   "id": "a608adcb",
   "metadata": {},
   "outputs": [
    {
     "data": {
      "application/javascript": [
       "var kernel = IPython.notebook.kernel;\n",
       "var thename = window.document.getElementById(\"notebook_name\").innerHTML;\n",
       "var command = \"the_notebook = \" + \"'\"+thename+\"'\";\n",
       "kernel.execute(command);\n",
       "var command = \"the_kernel = \" + \"'\"+kernel.name+\"'\";\n",
       "kernel.execute(command);\n"
      ],
      "text/plain": [
       "<IPython.core.display.Javascript object>"
      ]
     },
     "metadata": {},
     "output_type": "display_data"
    }
   ],
   "source": [
    "%%javascript\n",
    "var kernel = IPython.notebook.kernel;\n",
    "var thename = window.document.getElementById(\"notebook_name\").innerHTML;\n",
    "var command = \"the_notebook = \" + \"'\"+thename+\"'\";\n",
    "kernel.execute(command);\n",
    "var command = \"the_kernel = \" + \"'\"+kernel.name+\"'\";\n",
    "kernel.execute(command);"
   ]
  },
  {
   "cell_type": "code",
   "execution_count": 3,
   "id": "bf42f63c",
   "metadata": {},
   "outputs": [],
   "source": [
    "def insert_sort(T):\n",
    "\tT_trace = [T.copy(),T.copy()]\n",
    "\tfor i in range(1,len(T)):\n",
    "\t\tkey = T[i]\n",
    "\t\tj = i - 1\n",
    "\t\twhile (j >= 0 and T[j] > key):\n",
    "\t\t\tT[j+1] = T[j]\n",
    "\t\t\tj = j - 1\n",
    "\t\tT[j+1] = key\n",
    "\t\tT_trace.append(T.copy())\n",
    "\tT_trace.append(T.copy())\n",
    "\treturn T,T_trace"
   ]
  },
  {
   "cell_type": "code",
   "execution_count": 4,
   "id": "717d3bc8",
   "metadata": {},
   "outputs": [],
   "source": [
    "def sort_order(T_trace):\n",
    "\tT_trace_order = []\n",
    "\tfor i,T_i in enumerate(T_trace):\n",
    "\t\tsorter = np.argsort(T_i)\n",
    "\t\tT_trace_order.append(\n",
    "            sorter[\n",
    "                np.searchsorted(T_i, T_trace[0], sorter=sorter)\n",
    "            ]\n",
    "        )\n",
    "\treturn T_trace_order"
   ]
  },
  {
   "cell_type": "code",
   "execution_count": 5,
   "id": "0245388d",
   "metadata": {},
   "outputs": [],
   "source": [
    "T = [88,14,34,62,90,16,55,19,48,73]"
   ]
  },
  {
   "cell_type": "code",
   "execution_count": 6,
   "id": "9d6afb7b",
   "metadata": {},
   "outputs": [],
   "source": [
    "Tp,T_trace = insert_sort(T)\n",
    "T_trace_order = sort_order(np.array(T_trace))"
   ]
  },
  {
   "cell_type": "code",
   "execution_count": 7,
   "id": "f69d88d2",
   "metadata": {},
   "outputs": [],
   "source": [
    "# T_trace_order_flip = []\n",
    "# for i,Ti in enumerate(T_trace_order):\n",
    "#     T_trace_order_flip.append(np.flip(Ti.copy()))\n",
    "T_trace_order_flip = T_trace_order"
   ]
  },
  {
   "cell_type": "code",
   "execution_count": 11,
   "id": "391ed0bd",
   "metadata": {
    "scrolled": true
   },
   "outputs": [
    {
     "data": {
      "image/png": "[encoded data removed]",
      "text/plain": [
       "<Figure size 432x288 with 2 Axes>"
      ]
     },
     "metadata": {
      "needs_background": "light"
     },
     "output_type": "display_data"
    }
   ],
   "source": [
    "# fig, ax = plt.subplots()\n",
    "ax = plt.axes()\n",
    "plt.plot(\n",
    "\tlist(map(lambda x: -1*x,T_trace_order_flip)),\n",
    "\tlinewidth=5,\n",
    "\tsolid_capstyle='round',\n",
    "\tsolid_joinstyle='round'\n",
    ")\n",
    "ax2 = ax.twinx()\n",
    "plt.plot(\n",
    "\tlist(map(lambda x: -1*x,T_trace_order_flip)),\n",
    "\tlinewidth=15,\n",
    "\tsolid_capstyle='round',\n",
    "\tsolid_joinstyle='round'\n",
    ")\n",
    "\n",
    "ticklabels1 = []\n",
    "for i,Ti in enumerate(T_trace[0]):\n",
    "    ticklabels1.append(\n",
    "        f'$d_{i} = {Ti}$'\n",
    "    )\n",
    "ticklabels2 = []\n",
    "for i,Ti in enumerate(T_trace[-1]):\n",
    "    ticklabels2.append(\n",
    "        f'$d_{i}\\' = {Ti}$'\n",
    "    )\n",
    "\n",
    "ax.set_yticks(-1*np.arange(0,len(T),1))\n",
    "ax.set_yticklabels(ticklabels1)\n",
    "ax2.set_yticks(-1*np.arange(0,len(T),1))\n",
    "ax2.set_yticklabels(ticklabels2)\n",
    "\n",
    "ax.xaxis.set_visible(False)\n",
    "ax2.xaxis.set_visible(False)\n",
    "\n",
    "ax.tick_params(axis=u'both', which=u'both',length=0)\n",
    "ax2.tick_params(axis=u'both', which=u'both',length=0)\n",
    "\n",
    "for key, spine in ax.spines.items():\n",
    "    spine.set_visible(False)\n",
    "for key, spine in ax2.spines.items():\n",
    "    spine.set_visible(False)\n",
    "\n",
    "tikzplotlib.save(the_notebook+\".tex\")\n",
    "plt.show()"
   ]
  },
  {
   "cell_type": "code",
   "execution_count": null,
   "id": "0d2665cc",
   "metadata": {},
   "outputs": [],
   "source": []
  }
 ],
 "metadata": {
  "celltoolbar": "Tags",
  "kernelspec": {
   "display_name": "Python 3 (ipykernel)",
   "language": "python",
   "name": "python3"
  },
  "language_info": {
   "codemirror_mode": {
    "name": "ipython",
    "version": 3
   },
   "file_extension": ".py",
   "mimetype": "text/x-python",
   "name": "python",
   "nbconvert_exporter": "python",
   "pygments_lexer": "ipython3",
   "version": "3.10.3"
  }
 },
 "nbformat": 4,
 "nbformat_minor": 5
}
